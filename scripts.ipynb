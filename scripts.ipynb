{
 "cells": [
  {
   "cell_type": "markdown",
   "metadata": {},
   "source": [
    "## Import pymongo"
   ]
  },
  {
   "cell_type": "code",
   "execution_count": null,
   "metadata": {},
   "outputs": [],
   "source": [
    "import pymongo"
   ]
  },
  {
   "cell_type": "markdown",
   "metadata": {},
   "source": [
    "## Import MongoClient via pymongo"
   ]
  },
  {
   "cell_type": "code",
   "execution_count": null,
   "metadata": {},
   "outputs": [],
   "source": [
    "from pymongo import MongoClient\n",
    "client = MongoClient()"
   ]
  },
  {
   "cell_type": "markdown",
   "metadata": {},
   "source": [
    "## definition de la variable db = connection a la bdd"
   ]
  },
  {
   "cell_type": "code",
   "execution_count": null,
   "metadata": {},
   "outputs": [],
   "source": [
    "db = client['db_spinof3']"
   ]
  },
  {
   "cell_type": "markdown",
   "metadata": {},
   "source": [
    "## affiche les databases"
   ]
  },
  {
   "cell_type": "code",
   "execution_count": null,
   "metadata": {},
   "outputs": [],
   "source": [
    "print(client.list_database_names())"
   ]
  },
  {
   "cell_type": "markdown",
   "metadata": {},
   "source": [
    "## Import csv"
   ]
  },
  {
   "cell_type": "code",
   "execution_count": null,
   "metadata": {},
   "outputs": [],
   "source": [
    "import csv"
   ]
  },
  {
   "cell_type": "markdown",
   "metadata": {},
   "source": [
    "## fonction pour créer la collection et insérer le fichier csv correspondant"
   ]
  },
  {
   "cell_type": "code",
   "execution_count": 1,
   "metadata": {},
   "outputs": [],
   "source": [
    "#Fonction avec 2 arguments, l'un vaut le fichier csv,\n",
    "#l'autre le nom de la collection a créer.\n",
    "def insert_donnees(csvf, collection):\n",
    "    #Je créé une liste sous la variable data\n",
    "    data = []\n",
    "    #j'essaye\n",
    "    try:\n",
    "        #j'ouvre le fichier csv en tant que csvfile encoder utf-8\n",
    "        with open(csvf, newline='', encoding='UTF-8') as csvfile:\n",
    "            #variable reader lit le csv\n",
    "            reader = csv.DictReader(csvfile)\n",
    "            #boucle qui parcourt le csv\n",
    "            for row in reader:\n",
    "                #definition de la variable data. \n",
    "                #On lui ajoute avec append chaque row du fichier csv\n",
    "                data.append(row)\n",
    "            \n",
    "            #j'ajoute a ma collection en 2eme argument de fct ma data\n",
    "            db[collection].insert_many(data)\n",
    "        #écrit un message de réussite\n",
    "        print(\"insertion en base réussie\")\n",
    "    #Si l'essai ne fonctionne pas\n",
    "    except:\n",
    "        #écrit un message d'erreur\n",
    "        print(\"erreur, l'insertion a raté\")\n",
    "        "
   ]
  },
  {
   "cell_type": "markdown",
   "metadata": {},
   "source": [
    "## Appels de fonction, je donne le fichier csv et le nom de la collection"
   ]
  },
  {
   "cell_type": "code",
   "execution_count": null,
   "metadata": {},
   "outputs": [],
   "source": [
    "insert_donnees(\"movies-small/movies.csv\", \"movies\")"
   ]
  },
  {
   "cell_type": "code",
   "execution_count": null,
   "metadata": {},
   "outputs": [],
   "source": [
    "insert_donnees(\"movies-small/ratings.csv\", \"ratings\")"
   ]
  },
  {
   "cell_type": "code",
   "execution_count": null,
   "metadata": {},
   "outputs": [],
   "source": [
    "insert_donnees(\"movies-small/tags.csv\", \"tags\")"
   ]
  },
  {
   "cell_type": "code",
   "execution_count": null,
   "metadata": {},
   "outputs": [],
   "source": [
    "insert_donnees(\"movies-small/links.csv\", \"links\")"
   ]
  },
  {
   "cell_type": "code",
   "execution_count": null,
   "metadata": {},
   "outputs": [],
   "source": []
  },
  {
   "cell_type": "code",
   "execution_count": null,
   "metadata": {},
   "outputs": [],
   "source": []
  }
 ],
 "metadata": {
  "kernelspec": {
   "display_name": "Python 3",
   "language": "python",
   "name": "python3"
  },
  "language_info": {
   "codemirror_mode": {
    "name": "ipython",
    "version": 3
   },
   "file_extension": ".py",
   "mimetype": "text/x-python",
   "name": "python",
   "nbconvert_exporter": "python",
   "pygments_lexer": "ipython3",
   "version": "3.9.1"
  }
 },
 "nbformat": 4,
 "nbformat_minor": 4
}
